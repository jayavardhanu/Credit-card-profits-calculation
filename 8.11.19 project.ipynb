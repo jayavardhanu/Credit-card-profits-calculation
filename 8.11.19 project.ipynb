{
 "cells": [
  {
   "cell_type": "code",
   "execution_count": 97,
   "metadata": {},
   "outputs": [],
   "source": [
    "import numpy as np\n",
    "import pandas as pd\n",
    "import matplotlib.pyplot as plt\n",
    "import seaborn as sns"
   ]
  },
  {
   "cell_type": "code",
   "execution_count": 98,
   "metadata": {},
   "outputs": [],
   "source": [
    "mf=20 #Membership fees\n",
    "oc=25 #Operating cost\n",
    "af=10 #Affiliation fees"
   ]
  },
  {
   "cell_type": "code",
   "execution_count": 99,
   "metadata": {},
   "outputs": [],
   "source": [
    "a=np.array([65.75,69.86,73.96,78.06,82.16,86.26,90.36,94.46,98.56,102.68,106.79,\n",
    "            110.90,115,119.11,123.22,127.39,131.49,135.85,139.7,143.81,147.9,152,\n",
    "            156.1,160.2,164.3,168.4,172.5,176.9,181])"
   ]
  },
  {
   "cell_type": "code",
   "execution_count": 100,
   "metadata": {},
   "outputs": [],
   "source": [
    "a=pd.DataFrame(a)"
   ]
  },
  {
   "cell_type": "code",
   "execution_count": 101,
   "metadata": {},
   "outputs": [
    {
     "data": {
      "text/html": [
       "<div>\n",
       "<style scoped>\n",
       "    .dataframe tbody tr th:only-of-type {\n",
       "        vertical-align: middle;\n",
       "    }\n",
       "\n",
       "    .dataframe tbody tr th {\n",
       "        vertical-align: top;\n",
       "    }\n",
       "\n",
       "    .dataframe thead th {\n",
       "        text-align: right;\n",
       "    }\n",
       "</style>\n",
       "<table border=\"1\" class=\"dataframe\">\n",
       "  <thead>\n",
       "    <tr style=\"text-align: right;\">\n",
       "      <th></th>\n",
       "      <th>0</th>\n",
       "    </tr>\n",
       "  </thead>\n",
       "  <tbody>\n",
       "    <tr>\n",
       "      <th>count</th>\n",
       "      <td>29.000000</td>\n",
       "    </tr>\n",
       "    <tr>\n",
       "      <th>mean</th>\n",
       "      <td>123.264483</td>\n",
       "    </tr>\n",
       "    <tr>\n",
       "      <th>std</th>\n",
       "      <td>35.007813</td>\n",
       "    </tr>\n",
       "    <tr>\n",
       "      <th>min</th>\n",
       "      <td>65.750000</td>\n",
       "    </tr>\n",
       "    <tr>\n",
       "      <th>25%</th>\n",
       "      <td>94.460000</td>\n",
       "    </tr>\n",
       "    <tr>\n",
       "      <th>50%</th>\n",
       "      <td>123.220000</td>\n",
       "    </tr>\n",
       "    <tr>\n",
       "      <th>75%</th>\n",
       "      <td>152.000000</td>\n",
       "    </tr>\n",
       "    <tr>\n",
       "      <th>max</th>\n",
       "      <td>181.000000</td>\n",
       "    </tr>\n",
       "  </tbody>\n",
       "</table>\n",
       "</div>"
      ],
      "text/plain": [
       "                0\n",
       "count   29.000000\n",
       "mean   123.264483\n",
       "std     35.007813\n",
       "min     65.750000\n",
       "25%     94.460000\n",
       "50%    123.220000\n",
       "75%    152.000000\n",
       "max    181.000000"
      ]
     },
     "execution_count": 101,
     "metadata": {},
     "output_type": "execute_result"
    }
   ],
   "source": [
    "a.describe()"
   ]
  },
  {
   "cell_type": "code",
   "execution_count": 102,
   "metadata": {},
   "outputs": [
    {
     "name": "stdout",
     "output_type": "stream",
     "text": [
      "the mean profit for 250 customers who pay the whole amount between 16 to 44 days:Rs 0    44566.12069\n",
      "dtype: float64\n"
     ]
    }
   ],
   "source": [
    "p1=(a.mean()+mf+oc+af)*250\n",
    "print('the mean profit for 250 customers who pay the whole amount between 16 to 44 days:Rs',p1)\n",
    "#assume the customer pays everything between 16-44 days"
   ]
  },
  {
   "cell_type": "code",
   "execution_count": 26,
   "metadata": {},
   "outputs": [
    {
     "data": {
      "text/plain": [
       "<matplotlib.axes._subplots.AxesSubplot at 0xe7e83e8c18>"
      ]
     },
     "execution_count": 26,
     "metadata": {},
     "output_type": "execute_result"
    },
    {
     "data": {
      "image/png": "[encoded data removed]",
      "text/plain": [
       "<Figure size 432x288 with 1 Axes>"
      ]
     },
     "metadata": {
      "needs_background": "light"
     },
     "output_type": "display_data"
    }
   ],
   "source": [
    "sns.distplot(a)"
   ]
  },
  {
   "cell_type": "code",
   "execution_count": 27,
   "metadata": {},
   "outputs": [],
   "source": [
    "b=np.array([184.9,189.04,193.14,197.24,201.34,205.44,209.54,213.64,217.74,221.84,225.94,230.05,234.15,238.25,242.35])\n",
    "b=pd.DataFrame(b)"
   ]
  },
  {
   "cell_type": "code",
   "execution_count": 28,
   "metadata": {},
   "outputs": [
    {
     "data": {
      "text/html": [
       "<div>\n",
       "<style scoped>\n",
       "    .dataframe tbody tr th:only-of-type {\n",
       "        vertical-align: middle;\n",
       "    }\n",
       "\n",
       "    .dataframe tbody tr th {\n",
       "        vertical-align: top;\n",
       "    }\n",
       "\n",
       "    .dataframe thead th {\n",
       "        text-align: right;\n",
       "    }\n",
       "</style>\n",
       "<table border=\"1\" class=\"dataframe\">\n",
       "  <thead>\n",
       "    <tr style=\"text-align: right;\">\n",
       "      <th></th>\n",
       "      <th>0</th>\n",
       "    </tr>\n",
       "  </thead>\n",
       "  <tbody>\n",
       "    <tr>\n",
       "      <th>count</th>\n",
       "      <td>15.000000</td>\n",
       "    </tr>\n",
       "    <tr>\n",
       "      <th>mean</th>\n",
       "      <td>213.640000</td>\n",
       "    </tr>\n",
       "    <tr>\n",
       "      <th>std</th>\n",
       "      <td>18.343746</td>\n",
       "    </tr>\n",
       "    <tr>\n",
       "      <th>min</th>\n",
       "      <td>184.900000</td>\n",
       "    </tr>\n",
       "    <tr>\n",
       "      <th>25%</th>\n",
       "      <td>199.290000</td>\n",
       "    </tr>\n",
       "    <tr>\n",
       "      <th>50%</th>\n",
       "      <td>213.640000</td>\n",
       "    </tr>\n",
       "    <tr>\n",
       "      <th>75%</th>\n",
       "      <td>227.995000</td>\n",
       "    </tr>\n",
       "    <tr>\n",
       "      <th>max</th>\n",
       "      <td>242.350000</td>\n",
       "    </tr>\n",
       "  </tbody>\n",
       "</table>\n",
       "</div>"
      ],
      "text/plain": [
       "                0\n",
       "count   15.000000\n",
       "mean   213.640000\n",
       "std     18.343746\n",
       "min    184.900000\n",
       "25%    199.290000\n",
       "50%    213.640000\n",
       "75%    227.995000\n",
       "max    242.350000"
      ]
     },
     "execution_count": 28,
     "metadata": {},
     "output_type": "execute_result"
    }
   ],
   "source": [
    "b.describe()"
   ]
  },
  {
   "cell_type": "code",
   "execution_count": 29,
   "metadata": {},
   "outputs": [
    {
     "data": {
      "text/plain": [
       "<matplotlib.axes._subplots.AxesSubplot at 0xe7e458c240>"
      ]
     },
     "execution_count": 29,
     "metadata": {},
     "output_type": "execute_result"
    },
    {
     "data": {
      "image/png": "[encoded data removed]",
      "text/plain": [
       "<Figure size 432x288 with 1 Axes>"
      ]
     },
     "metadata": {
      "needs_background": "light"
     },
     "output_type": "display_data"
    }
   ],
   "source": [
    "sns.distplot(b)"
   ]
  },
  {
   "cell_type": "code",
   "execution_count": 30,
   "metadata": {},
   "outputs": [
    {
     "name": "stdout",
     "output_type": "stream",
     "text": [
      "the mean profit for 250 customers who pay the whole amount between 45 to 59 days:Rs 0    67160.0\n",
      "dtype: float64\n"
     ]
    }
   ],
   "source": [
    "p2=(b.mean()+mf+oc+af)*250\n",
    "print('the mean profit for 250 customers who pay the whole amount between 45 to 59 days:Rs',p2)"
   ]
  },
  {
   "cell_type": "code",
   "execution_count": 31,
   "metadata": {},
   "outputs": [
    {
     "name": "stdout",
     "output_type": "stream",
     "text": [
      "the mean profit from 250 customers who pay after 60 days is:Rs 89642.5\n"
     ]
    }
   ],
   "source": [
    "#assume the mean Interest from customers who pay after 60 days to be 303.57\n",
    "p3=(303.57+mf+oc+af)*250\n",
    "print('the mean profit from 250 customers who pay after 60 days is:Rs',p3)"
   ]
  },
  {
   "cell_type": "code",
   "execution_count": 33,
   "metadata": {},
   "outputs": [],
   "source": [
    "a1=np.array([65.75,69.86,73.96,78.06,82.16,86.26,90.36,94.46,98.56,102.68,106.79,\n",
    "            110.90,115,119.11,123.22,127.39,131.49,135.85,139.7,143.81,147.9,152,\n",
    "            156.1,160.2,164.3,168.4,172.5,176.9,181])"
   ]
  },
  {
   "cell_type": "code",
   "execution_count": 34,
   "metadata": {},
   "outputs": [
    {
     "data": {
      "text/html": [
       "<div>\n",
       "<style scoped>\n",
       "    .dataframe tbody tr th:only-of-type {\n",
       "        vertical-align: middle;\n",
       "    }\n",
       "\n",
       "    .dataframe tbody tr th {\n",
       "        vertical-align: top;\n",
       "    }\n",
       "\n",
       "    .dataframe thead th {\n",
       "        text-align: right;\n",
       "    }\n",
       "</style>\n",
       "<table border=\"1\" class=\"dataframe\">\n",
       "  <thead>\n",
       "    <tr style=\"text-align: right;\">\n",
       "      <th></th>\n",
       "      <th>0</th>\n",
       "    </tr>\n",
       "  </thead>\n",
       "  <tbody>\n",
       "    <tr>\n",
       "      <th>count</th>\n",
       "      <td>29.000000</td>\n",
       "    </tr>\n",
       "    <tr>\n",
       "      <th>mean</th>\n",
       "      <td>123.264483</td>\n",
       "    </tr>\n",
       "    <tr>\n",
       "      <th>std</th>\n",
       "      <td>35.007813</td>\n",
       "    </tr>\n",
       "    <tr>\n",
       "      <th>min</th>\n",
       "      <td>65.750000</td>\n",
       "    </tr>\n",
       "    <tr>\n",
       "      <th>25%</th>\n",
       "      <td>94.460000</td>\n",
       "    </tr>\n",
       "    <tr>\n",
       "      <th>50%</th>\n",
       "      <td>123.220000</td>\n",
       "    </tr>\n",
       "    <tr>\n",
       "      <th>75%</th>\n",
       "      <td>152.000000</td>\n",
       "    </tr>\n",
       "    <tr>\n",
       "      <th>max</th>\n",
       "      <td>181.000000</td>\n",
       "    </tr>\n",
       "  </tbody>\n",
       "</table>\n",
       "</div>"
      ],
      "text/plain": [
       "                0\n",
       "count   29.000000\n",
       "mean   123.264483\n",
       "std     35.007813\n",
       "min     65.750000\n",
       "25%     94.460000\n",
       "50%    123.220000\n",
       "75%    152.000000\n",
       "max    181.000000"
      ]
     },
     "execution_count": 34,
     "metadata": {},
     "output_type": "execute_result"
    }
   ],
   "source": [
    "a1=pd.DataFrame(a1)\n",
    "a1.describe()"
   ]
  },
  {
   "cell_type": "code",
   "execution_count": 35,
   "metadata": {},
   "outputs": [
    {
     "data": {
      "text/plain": [
       "<matplotlib.axes._subplots.AxesSubplot at 0xe7e45e6f60>"
      ]
     },
     "execution_count": 35,
     "metadata": {},
     "output_type": "execute_result"
    },
    {
     "data": {
      "image/png": "[encoded data removed]",
      "text/plain": [
       "<Figure size 432x288 with 1 Axes>"
      ]
     },
     "metadata": {
      "needs_background": "light"
     },
     "output_type": "display_data"
    }
   ],
   "source": [
    "sns.distplot(a1)"
   ]
  },
  {
   "cell_type": "code",
   "execution_count": 43,
   "metadata": {},
   "outputs": [
    {
     "name": "stdout",
     "output_type": "stream",
     "text": [
      "the mean profit for 250 customers who pay the whole amount between 16 to 44 days:Rs 0    44566.12069\n",
      "dtype: float64\n"
     ]
    }
   ],
   "source": [
    "p4=(a1.mean()+mf+oc+af)*250\n",
    "print('the mean profit for 250 customers who pay the whole amount between 16 to 44 days:Rs',p4)"
   ]
  },
  {
   "cell_type": "code",
   "execution_count": 37,
   "metadata": {},
   "outputs": [],
   "source": [
    "b1=np.array([184.9,189.04,193.14,197.24,201.34,205.44,209.54,213.64,217.74,221.84,225.94,230.05,234.15,238.25,242.35])\n",
    "b1=pd.DataFrame(b1)"
   ]
  },
  {
   "cell_type": "code",
   "execution_count": 38,
   "metadata": {},
   "outputs": [
    {
     "name": "stdout",
     "output_type": "stream",
     "text": [
      "the mean profit from 250 customers who pay between 45 to 59 days days is:Rs 0    67160.0\n",
      "dtype: float64\n"
     ]
    }
   ],
   "source": [
    "p5=(b1.mean()+mf+oc+af)*250\n",
    "print('the mean profit from 250 customers who pay between 45 to 59 days days is:Rs',p5)"
   ]
  },
  {
   "cell_type": "code",
   "execution_count": 39,
   "metadata": {},
   "outputs": [
    {
     "name": "stdout",
     "output_type": "stream",
     "text": [
      "the mean profit from 250 customers who pay after 60 days is:Rs 89642.5\n"
     ]
    }
   ],
   "source": [
    "p6=(303.57+mf+oc+af)*250\n",
    "print('the mean profit from 250 customers who pay after 60 days is:Rs',p6)"
   ]
  },
  {
   "cell_type": "code",
   "execution_count": 79,
   "metadata": {},
   "outputs": [],
   "source": [
    "data = {'Custr1': [0,0,0,0,0,0,0,0,0,0,0,0],\n",
    " 'Custr2': [44566.12,44566.12,44566.12,44566.12,44566.12,44566.12,44566.12,44566.12,44566.12,44566.12,44566.12,44566.12],\n",
    " 'Custr3': [67160.0,67160.0,67160.0,67160.0,67160.0,67160.0,67160.0,67160.0,67160.0,67160.0,67160.0,67160.0],\n",
    " 'Custr4': [89642.5,89642.5,89642.5,89642.5,89642.5,89642.5,89642.5,89642.5,89642.5,89642.5,89642.5,89642.5],\n",
    " 'Average card balance':[1000,1000,1000,1000,1000,1000,1000,1000,1000,1000,1000,1000],      \n",
    "  'index':['jan','feb','mar','aprl','may','jun','jul','aug','sep','oct','nov','dec']}"
   ]
  },
  {
   "cell_type": "code",
   "execution_count": 80,
   "metadata": {},
   "outputs": [],
   "source": [
    "data=pd.DataFrame(data)"
   ]
  },
  {
   "cell_type": "code",
   "execution_count": 81,
   "metadata": {},
   "outputs": [],
   "source": [
    "data=data.set_index('index')"
   ]
  },
  {
   "cell_type": "code",
   "execution_count": 82,
   "metadata": {},
   "outputs": [
    {
     "data": {
      "text/html": [
       "<div>\n",
       "<style scoped>\n",
       "    .dataframe tbody tr th:only-of-type {\n",
       "        vertical-align: middle;\n",
       "    }\n",
       "\n",
       "    .dataframe tbody tr th {\n",
       "        vertical-align: top;\n",
       "    }\n",
       "\n",
       "    .dataframe thead th {\n",
       "        text-align: right;\n",
       "    }\n",
       "</style>\n",
       "<table border=\"1\" class=\"dataframe\">\n",
       "  <thead>\n",
       "    <tr style=\"text-align: right;\">\n",
       "      <th></th>\n",
       "      <th>Custr1</th>\n",
       "      <th>Custr2</th>\n",
       "      <th>Custr3</th>\n",
       "      <th>Custr4</th>\n",
       "      <th>Average card balance</th>\n",
       "    </tr>\n",
       "    <tr>\n",
       "      <th>index</th>\n",
       "      <th></th>\n",
       "      <th></th>\n",
       "      <th></th>\n",
       "      <th></th>\n",
       "      <th></th>\n",
       "    </tr>\n",
       "  </thead>\n",
       "  <tbody>\n",
       "    <tr>\n",
       "      <th>jan</th>\n",
       "      <td>0</td>\n",
       "      <td>44566.12</td>\n",
       "      <td>67160.0</td>\n",
       "      <td>89642.5</td>\n",
       "      <td>1000</td>\n",
       "    </tr>\n",
       "    <tr>\n",
       "      <th>feb</th>\n",
       "      <td>0</td>\n",
       "      <td>44566.12</td>\n",
       "      <td>67160.0</td>\n",
       "      <td>89642.5</td>\n",
       "      <td>1000</td>\n",
       "    </tr>\n",
       "    <tr>\n",
       "      <th>mar</th>\n",
       "      <td>0</td>\n",
       "      <td>44566.12</td>\n",
       "      <td>67160.0</td>\n",
       "      <td>89642.5</td>\n",
       "      <td>1000</td>\n",
       "    </tr>\n",
       "    <tr>\n",
       "      <th>aprl</th>\n",
       "      <td>0</td>\n",
       "      <td>44566.12</td>\n",
       "      <td>67160.0</td>\n",
       "      <td>89642.5</td>\n",
       "      <td>1000</td>\n",
       "    </tr>\n",
       "    <tr>\n",
       "      <th>may</th>\n",
       "      <td>0</td>\n",
       "      <td>44566.12</td>\n",
       "      <td>67160.0</td>\n",
       "      <td>89642.5</td>\n",
       "      <td>1000</td>\n",
       "    </tr>\n",
       "    <tr>\n",
       "      <th>jun</th>\n",
       "      <td>0</td>\n",
       "      <td>44566.12</td>\n",
       "      <td>67160.0</td>\n",
       "      <td>89642.5</td>\n",
       "      <td>1000</td>\n",
       "    </tr>\n",
       "    <tr>\n",
       "      <th>jul</th>\n",
       "      <td>0</td>\n",
       "      <td>44566.12</td>\n",
       "      <td>67160.0</td>\n",
       "      <td>89642.5</td>\n",
       "      <td>1000</td>\n",
       "    </tr>\n",
       "    <tr>\n",
       "      <th>aug</th>\n",
       "      <td>0</td>\n",
       "      <td>44566.12</td>\n",
       "      <td>67160.0</td>\n",
       "      <td>89642.5</td>\n",
       "      <td>1000</td>\n",
       "    </tr>\n",
       "    <tr>\n",
       "      <th>sep</th>\n",
       "      <td>0</td>\n",
       "      <td>44566.12</td>\n",
       "      <td>67160.0</td>\n",
       "      <td>89642.5</td>\n",
       "      <td>1000</td>\n",
       "    </tr>\n",
       "    <tr>\n",
       "      <th>oct</th>\n",
       "      <td>0</td>\n",
       "      <td>44566.12</td>\n",
       "      <td>67160.0</td>\n",
       "      <td>89642.5</td>\n",
       "      <td>1000</td>\n",
       "    </tr>\n",
       "    <tr>\n",
       "      <th>nov</th>\n",
       "      <td>0</td>\n",
       "      <td>44566.12</td>\n",
       "      <td>67160.0</td>\n",
       "      <td>89642.5</td>\n",
       "      <td>1000</td>\n",
       "    </tr>\n",
       "    <tr>\n",
       "      <th>dec</th>\n",
       "      <td>0</td>\n",
       "      <td>44566.12</td>\n",
       "      <td>67160.0</td>\n",
       "      <td>89642.5</td>\n",
       "      <td>1000</td>\n",
       "    </tr>\n",
       "  </tbody>\n",
       "</table>\n",
       "</div>"
      ],
      "text/plain": [
       "       Custr1    Custr2   Custr3   Custr4  Average card balance\n",
       "index                                                          \n",
       "jan         0  44566.12  67160.0  89642.5                  1000\n",
       "feb         0  44566.12  67160.0  89642.5                  1000\n",
       "mar         0  44566.12  67160.0  89642.5                  1000\n",
       "aprl        0  44566.12  67160.0  89642.5                  1000\n",
       "may         0  44566.12  67160.0  89642.5                  1000\n",
       "jun         0  44566.12  67160.0  89642.5                  1000\n",
       "jul         0  44566.12  67160.0  89642.5                  1000\n",
       "aug         0  44566.12  67160.0  89642.5                  1000\n",
       "sep         0  44566.12  67160.0  89642.5                  1000\n",
       "oct         0  44566.12  67160.0  89642.5                  1000\n",
       "nov         0  44566.12  67160.0  89642.5                  1000\n",
       "dec         0  44566.12  67160.0  89642.5                  1000"
      ]
     },
     "execution_count": 82,
     "metadata": {},
     "output_type": "execute_result"
    }
   ],
   "source": [
    "data"
   ]
  },
  {
   "cell_type": "code",
   "execution_count": 74,
   "metadata": {},
   "outputs": [
    {
     "name": "stdout",
     "output_type": "stream",
     "text": [
      "Total profits for 1year: 2416423.44\n"
     ]
    }
   ],
   "source": [
    "t1=(data['Custr2'].sum())+(data['Custr3'].sum())+(data['Custr4'].sum())\n",
    "print('Total profits for 1year:',t1)"
   ]
  },
  {
   "cell_type": "code",
   "execution_count": 75,
   "metadata": {},
   "outputs": [
    {
     "name": "stdout",
     "output_type": "stream",
     "text": [
      "Net interest Income: 2186863.2132\n"
     ]
    }
   ],
   "source": [
    "print('Net interest Income:',t1-(9.5/100*t1))"
   ]
  },
  {
   "cell_type": "markdown",
   "metadata": {},
   "source": [
    "Scenario 1"
   ]
  },
  {
   "cell_type": "markdown",
   "metadata": {},
   "source": [
    "Q1)Profits generated from scenario1 is Rs2,186,863.2132"
   ]
  },
  {
   "cell_type": "markdown",
   "metadata": {},
   "source": [
    "The bigger the payment a customer pays and the earlier in the billing cycle the customer makes a payment, the lower the finance charges assessed"
   ]
  },
  {
   "cell_type": "markdown",
   "metadata": {},
   "source": [
    "A default has adverse effects on the borrowers credit and ability to borrow in the future"
   ]
  },
  {
   "cell_type": "markdown",
   "metadata": {},
   "source": [
    "Credit card companies often give a few months before an account goes into default. If after 6 months theer have been no payment, the account would get charged off account to a collection agency. the borrower would need to repay the agency.\n",
    "If no payment is made to the collection agency a legal action might be taken.\n",
    "The credit rating will be hit badly"
   ]
  },
  {
   "cell_type": "markdown",
   "metadata": {},
   "source": [
    "Q2)If the average balance is increased to Rs2000, the Dafault rate or loss rate decreses"
   ]
  },
  {
   "cell_type": "markdown",
   "metadata": {},
   "source": [
    "Q3)Most defaults occur on low balances\n",
    "There is a very strong correlation between a borrower's credit score and their liklihood of default"
   ]
  },
  {
   "cell_type": "markdown",
   "metadata": {},
   "source": [
    "Q4)Cost to purchase the customers from current credit card company=Rs 20 per customer\n",
    "Rs 20,000 for an year is the initial charges paid to get the customers"
   ]
  },
  {
   "cell_type": "markdown",
   "metadata": {},
   "source": [
    "Q5)To convince the affiliated group not to want to purchase\n",
    "Increasing reward points for money spent,\n",
    "Giving vouchers of the affiliated group as benifits, \n",
    "Reducing annual fees for a limited time, \n",
    "Implementing introductory offers\n",
    "might work"
   ]
  },
  {
   "cell_type": "markdown",
   "metadata": {},
   "source": [
    "Q6) By law, credit card issuers are limited to what they can charge for a late fess. credit card issuer can charge maximum late     fees of $25 the first time a customer is late upto $35 if he/she has been late on the payment within the past 6 months.\n",
    "    Late fees cant exceed the amount of the violation"
   ]
  },
  {
   "cell_type": "markdown",
   "metadata": {},
   "source": [
    "Q7)It is benificial for the company if the customer pays the credit card bill after the due date\n",
    "\n",
    "Ex1: Total amount due period:10,000\n",
    "     payment date:Aug 20\n",
    "     next statement date: Sept 5\n",
    "     Transaction done between Aug5 to Sep5: NIL\n",
    "     Interest levied for 20 days:0\n",
    "Ex2: Min Amount due paid before the due date:500\n",
    "     Payment date: Aug 20\n",
    "     next statement date: Sept 5\n",
    "     Transaction done between Aug 5 to Sept 5: NIL\n",
    "     Interest levied for 20 days(Aug1 to Aug20):20*10,000*3%*12/365=197.26\n",
    "     Interest levied for 16 days(Aug21 to sept5): 16*9500*3%*12/365=149.91\n",
    "     Total interest charged=347.17\n",
    "     \n",
    "from the above example even if paid min amount due before due date, interest will be levied for the complete amount Rs10,000 till the 1st payment     "
   ]
  },
  {
   "cell_type": "code",
   "execution_count": 77,
   "metadata": {},
   "outputs": [],
   "source": [
    "#c1: who pay bill within the credit free period interest charged 0"
   ]
  },
  {
   "cell_type": "code",
   "execution_count": 86,
   "metadata": {},
   "outputs": [],
   "source": [
    "data2={'Custr1': [0,0,0,0,0,0,0,0,0,0,0,0],\n",
    " 'Custr2': [44566.12,46794.42,49134.14,51590.85,54170.39,56878.91,59722.86,62709,65844.45,69136.67,72593.51,76223.18],\n",
    " 'Custr3': [67160.0,70518,74043.9,77746.09,81633.39,85715.05,90000,94500.85,99225.89,104187.19,109396.55,114866.37],\n",
    " 'Custr4': [89642.5,94124.62,98830.85,103772.39,108961,114409.06,120129.52,126135.99,132442.79,139064.93,146018.18,153319.09],\n",
    " 'Average card balance':[1000,1005,1055.25,1108.01,1163.41,1221.58,1282.66,1346.79,1414.12,1484.83,1559.07,1637.03],\n",
    " 'index':['jan','feb','mar','aprl','may','jun','jul','aug','sep','oct','nov','dec']}"
   ]
  },
  {
   "cell_type": "code",
   "execution_count": 88,
   "metadata": {},
   "outputs": [],
   "source": [
    "data2=pd.DataFrame(data2)\n",
    "data2=data2.set_index('index')"
   ]
  },
  {
   "cell_type": "code",
   "execution_count": 91,
   "metadata": {},
   "outputs": [
    {
     "name": "stdout",
     "output_type": "stream",
     "text": [
      "profit generated for 1 year: 2416423.44\n"
     ]
    }
   ],
   "source": [
    "t2=(data['Custr2'].sum())+(data['Custr3'].sum())+(data['Custr4'].sum())\n",
    "print(\"profit generated for 1 year:\",t2)"
   ]
  },
  {
   "cell_type": "code",
   "execution_count": 93,
   "metadata": {},
   "outputs": [
    {
     "name": "stdout",
     "output_type": "stream",
     "text": [
      "net profit: 2166863.2132\n"
     ]
    }
   ],
   "source": [
    "print('net profit:',t2-20000-(.095*t2))"
   ]
  },
  {
   "cell_type": "markdown",
   "metadata": {},
   "source": [
    "There isnt much difference in the profits between scenario1 and scenario2 \n",
    "But in scenario 2 the magnitute of the customers increased which shows a positive impact on the long run"
   ]
  },
  {
   "cell_type": "code",
   "execution_count": null,
   "metadata": {},
   "outputs": [],
   "source": []
  }
 ],
 "metadata": {
  "kernelspec": {
   "display_name": "Python 3",
   "language": "python",
   "name": "python3"
  },
  "language_info": {
   "codemirror_mode": {
    "name": "ipython",
    "version": 3
   },
   "file_extension": ".py",
   "mimetype": "text/x-python",
   "name": "python",
   "nbconvert_exporter": "python",
   "pygments_lexer": "ipython3",
   "version": "3.7.3"
  }
 },
 "nbformat": 4,
 "nbformat_minor": 2
}
